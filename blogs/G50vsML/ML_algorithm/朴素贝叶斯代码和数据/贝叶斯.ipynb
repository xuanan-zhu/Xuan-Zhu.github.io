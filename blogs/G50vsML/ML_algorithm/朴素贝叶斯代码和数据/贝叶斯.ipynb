{
 "cells": [
  {
   "cell_type": "code",
   "execution_count": 2,
   "id": "cb13e4d5",
   "metadata": {},
   "outputs": [],
   "source": [
    "#词表到向量的转换函数\n",
    "from numpy import *\n",
    "\n",
    "def loadDataSet():\n",
    "    postingList=[['my', 'dog', 'has', 'flea', 'problems', 'help', 'please'],\n",
    "                 ['maybe', 'not', 'take', 'him', 'to', 'dog', 'park', 'stupid'],\n",
    "                 ['my', 'dalmation', 'is', 'so', 'cute', 'I', 'love', 'him'],\n",
    "                 ['stop', 'posting', 'stupid', 'worthless', 'garbage'],\n",
    "                 ['mr', 'licks', 'ate', 'my', 'steak', 'how', 'to', 'stop', 'him'],\n",
    "                 ['quit', 'buying', 'worthless', 'dog', 'food', 'stupid']]\n",
    "    classVec = [0,1,0,1,0,1]    #1 is abusive, 0 not\n",
    "    return postingList,classVec"
   ]
  },
  {
   "cell_type": "code",
   "execution_count": 3,
   "id": "61bf0926",
   "metadata": {},
   "outputs": [],
   "source": [
    "def createVocabList(dataSet):\n",
    "    vocabSet = set([])\n",
    "    for document in dataSet:\n",
    "        vocabSet = vocabSet | set(document)\n",
    "    return list(vocabSet)"
   ]
  },
  {
   "cell_type": "code",
   "execution_count": 4,
   "id": "c915129c",
   "metadata": {},
   "outputs": [],
   "source": [
    "def setOfWords2Vec(vocabList, inputSet):\n",
    "    returnVec = [0]*len(vocabList)\n",
    "    for word in inputSet:\n",
    "        if word in vocabList:\n",
    "            returnVec[vocabList.index(word)] = 1\n",
    "        else: print(\"the word: %s is not in my Vocabulary!\")%word\n",
    "    return returnVec"
   ]
  },
  {
   "cell_type": "code",
   "execution_count": 5,
   "id": "3f06d11c",
   "metadata": {},
   "outputs": [],
   "source": [
    "postingList,classVec = loadDataSet()"
   ]
  },
  {
   "cell_type": "code",
   "execution_count": 6,
   "id": "171e84c5",
   "metadata": {},
   "outputs": [],
   "source": [
    "myVocabList = createVocabList(postingList)"
   ]
  },
  {
   "cell_type": "code",
   "execution_count": 7,
   "id": "f4efc91b",
   "metadata": {},
   "outputs": [
    {
     "data": {
      "text/plain": [
       "['please',\n",
       " 'him',\n",
       " 'steak',\n",
       " 'food',\n",
       " 'garbage',\n",
       " 'to',\n",
       " 'I',\n",
       " 'maybe',\n",
       " 'so',\n",
       " 'mr',\n",
       " 'is',\n",
       " 'problems',\n",
       " 'love',\n",
       " 'my',\n",
       " 'dalmation',\n",
       " 'how',\n",
       " 'help',\n",
       " 'buying',\n",
       " 'licks',\n",
       " 'not',\n",
       " 'park',\n",
       " 'posting',\n",
       " 'cute',\n",
       " 'has',\n",
       " 'flea',\n",
       " 'stupid',\n",
       " 'quit',\n",
       " 'take',\n",
       " 'stop',\n",
       " 'worthless',\n",
       " 'ate',\n",
       " 'dog']"
      ]
     },
     "execution_count": 7,
     "metadata": {},
     "output_type": "execute_result"
    }
   ],
   "source": [
    "myVocabList"
   ]
  },
  {
   "cell_type": "code",
   "execution_count": 8,
   "id": "bda7754f",
   "metadata": {},
   "outputs": [
    {
     "data": {
      "text/plain": [
       "[0,\n",
       " 0,\n",
       " 0,\n",
       " 0,\n",
       " 1,\n",
       " 0,\n",
       " 0,\n",
       " 0,\n",
       " 0,\n",
       " 0,\n",
       " 0,\n",
       " 0,\n",
       " 0,\n",
       " 0,\n",
       " 0,\n",
       " 0,\n",
       " 0,\n",
       " 0,\n",
       " 0,\n",
       " 0,\n",
       " 0,\n",
       " 1,\n",
       " 0,\n",
       " 0,\n",
       " 0,\n",
       " 1,\n",
       " 0,\n",
       " 0,\n",
       " 1,\n",
       " 1,\n",
       " 0,\n",
       " 0]"
      ]
     },
     "execution_count": 8,
     "metadata": {},
     "output_type": "execute_result"
    }
   ],
   "source": [
    "setOfWords2Vec(myVocabList, postingList[3])"
   ]
  },
  {
   "cell_type": "code",
   "execution_count": 1,
   "id": "59fc6935",
   "metadata": {},
   "outputs": [],
   "source": [
    "#计算 p(ci / w) = [p(w|ci)*p(ci)]/p(w)"
   ]
  },
  {
   "cell_type": "code",
   "execution_count": 10,
   "id": "4ddc6280",
   "metadata": {},
   "outputs": [],
   "source": [
    "from numpy import * \n",
    "def trainNB0(trainMatrix, trainCategory):#输入文档单词向量矩阵（查完字典的）和文档类别\n",
    "    numTrainDocs = len(trainMatrix)\n",
    "    numWords = len(trainMatrix[0])\n",
    "    pAbusive = sum(trainCategory)/float(numTrainDocs) #计算侮辱性文档的概率 p(1)\n",
    "    p0Num = zeros(numWords)\n",
    "    p1Num = zeros(numWords)\n",
    "    p0Denom = 0.0\n",
    "    p1Denom = 0.0\n",
    "    \n",
    "    for i in range(numTrainDocs):\n",
    "        if trainCategory[i] == 1:\n",
    "            p1Num += trainMatrix[i]\n",
    "            p1Denom += sum(trainMatrix[i])\n",
    "        else:\n",
    "            p0Num += trainMatrix[i]\n",
    "            p0Denom += sum(trainMatrix[i])\n",
    "    p1Vect = p1Num/p1Denom \n",
    "    p0Vect = p0Num/p0Denom\n",
    "    return p0Vect, p1Vect, pAbusive\n",
    "\n",
    "\n",
    "def trainNB1(trainMatrix, trainCategory):#输入文档单词向量矩阵（查完字典的）和文档类别\n",
    "    numTrainDocs = len(trainMatrix)\n",
    "    numWords = len(trainMatrix[0])\n",
    "    pAbusive = sum(trainCategory)/float(numTrainDocs) #计算侮辱性文档的概率 p(1)\n",
    "#     p0Num = zeros(numWords)\n",
    "#     p1Num = zeros(numWords)\n",
    "#     p0Denom = 0.0\n",
    "#     p1Denom = 0.0\n",
    "    p0Num = ones(numWords)\n",
    "    p1Num = ones(numWords)\n",
    "    p0Denom = 2.0\n",
    "    p1Denom = 2.0\n",
    "    \n",
    "    for i in range(numTrainDocs):\n",
    "        if trainCategory[i] == 1:\n",
    "            p1Num += trainMatrix[i]\n",
    "            p1Denom += sum(trainMatrix[i])\n",
    "        else:\n",
    "            p0Num += trainMatrix[i]\n",
    "            p0Denom += sum(trainMatrix[i])\n",
    "    p1Vect = log(p1Num/p1Denom) #防止下溢出\n",
    "    p0Vect = log(p0Num/p0Denom)\n",
    "    return p0Vect, p1Vect, pAbusive"
   ]
  },
  {
   "cell_type": "code",
   "execution_count": 11,
   "id": "203d721f",
   "metadata": {},
   "outputs": [],
   "source": [
    "from numpy import * \n",
    "listOPosts, listClasses = loadDataSet()"
   ]
  },
  {
   "cell_type": "code",
   "execution_count": 12,
   "id": "63af890e",
   "metadata": {},
   "outputs": [],
   "source": [
    "myVocabList = createVocabList(listOPosts)"
   ]
  },
  {
   "cell_type": "code",
   "execution_count": 13,
   "id": "b2015ac4",
   "metadata": {},
   "outputs": [],
   "source": [
    "trainMat = []\n",
    "for postinDoc in listOPosts:\n",
    "    trainMat.append(setOfWords2Vec(myVocabList, postinDoc))"
   ]
  },
  {
   "cell_type": "code",
   "execution_count": 14,
   "id": "cc3fdf5f",
   "metadata": {},
   "outputs": [],
   "source": [
    "p0V, p1V, pAb = trainNB0(trainMat, listClasses)"
   ]
  },
  {
   "cell_type": "code",
   "execution_count": 15,
   "id": "4f16080f",
   "metadata": {},
   "outputs": [
    {
     "data": {
      "text/plain": [
       "(array([0.04166667, 0.08333333, 0.04166667, 0.        , 0.        ,\n",
       "        0.04166667, 0.04166667, 0.        , 0.04166667, 0.04166667,\n",
       "        0.04166667, 0.04166667, 0.04166667, 0.125     , 0.04166667,\n",
       "        0.04166667, 0.04166667, 0.        , 0.04166667, 0.        ,\n",
       "        0.        , 0.        , 0.04166667, 0.04166667, 0.04166667,\n",
       "        0.        , 0.        , 0.        , 0.04166667, 0.        ,\n",
       "        0.04166667, 0.04166667]),\n",
       " array([0.        , 0.05263158, 0.        , 0.05263158, 0.05263158,\n",
       "        0.05263158, 0.        , 0.05263158, 0.        , 0.        ,\n",
       "        0.        , 0.        , 0.        , 0.        , 0.        ,\n",
       "        0.        , 0.        , 0.05263158, 0.        , 0.05263158,\n",
       "        0.05263158, 0.05263158, 0.        , 0.        , 0.        ,\n",
       "        0.15789474, 0.05263158, 0.05263158, 0.05263158, 0.10526316,\n",
       "        0.        , 0.10526316]),\n",
       " 0.5)"
      ]
     },
     "execution_count": 15,
     "metadata": {},
     "output_type": "execute_result"
    }
   ],
   "source": [
    "p0V, p1V, pAb"
   ]
  },
  {
   "cell_type": "code",
   "execution_count": 16,
   "id": "19e9a81b",
   "metadata": {},
   "outputs": [
    {
     "data": {
      "text/plain": [
       "0.15789473684210525"
      ]
     },
     "execution_count": 16,
     "metadata": {},
     "output_type": "execute_result"
    }
   ],
   "source": [
    "p1V[myVocabList.index(\"stupid\")]"
   ]
  },
  {
   "cell_type": "code",
   "execution_count": 17,
   "id": "ef2b11ce",
   "metadata": {},
   "outputs": [
    {
     "data": {
      "text/plain": [
       "0.15789473684210525"
      ]
     },
     "execution_count": 17,
     "metadata": {},
     "output_type": "execute_result"
    }
   ],
   "source": [
    "p1V[myVocabList.index(\"stupid\")]"
   ]
  },
  {
   "cell_type": "code",
   "execution_count": 57,
   "id": "bd3a2829",
   "metadata": {},
   "outputs": [],
   "source": [
    "p0V, p1V, pAb = trainNB1(trainMat, listClasses)"
   ]
  },
  {
   "cell_type": "code",
   "execution_count": 58,
   "id": "991db6e3",
   "metadata": {},
   "outputs": [
    {
     "data": {
      "text/plain": [
       "(array([-2.56494936, -3.25809654, -3.25809654, -2.56494936, -2.56494936,\n",
       "        -3.25809654, -3.25809654, -3.25809654, -2.56494936, -2.56494936,\n",
       "        -3.25809654, -3.25809654, -1.87180218, -2.56494936, -3.25809654,\n",
       "        -3.25809654, -3.25809654, -2.56494936, -2.56494936, -2.56494936,\n",
       "        -2.56494936, -2.15948425, -2.56494936, -2.56494936, -2.56494936,\n",
       "        -3.25809654, -2.56494936, -2.56494936, -2.56494936, -2.56494936,\n",
       "        -2.56494936, -2.56494936]),\n",
       " array([-3.04452244, -1.94591015, -2.35137526, -3.04452244, -1.94591015,\n",
       "        -1.65822808, -2.35137526, -2.35137526, -3.04452244, -3.04452244,\n",
       "        -2.35137526, -2.35137526, -3.04452244, -3.04452244, -2.35137526,\n",
       "        -2.35137526, -2.35137526, -3.04452244, -3.04452244, -3.04452244,\n",
       "        -3.04452244, -2.35137526, -3.04452244, -3.04452244, -3.04452244,\n",
       "        -2.35137526, -2.35137526, -3.04452244, -3.04452244, -3.04452244,\n",
       "        -2.35137526, -3.04452244]),\n",
       " 0.5)"
      ]
     },
     "execution_count": 58,
     "metadata": {},
     "output_type": "execute_result"
    }
   ],
   "source": [
    "p0V, p1V, pAb "
   ]
  },
  {
   "cell_type": "code",
   "execution_count": 59,
   "id": "0576fa2d",
   "metadata": {},
   "outputs": [
    {
     "data": {
      "text/plain": [
       "-1.6582280766035324"
      ]
     },
     "execution_count": 59,
     "metadata": {},
     "output_type": "execute_result"
    }
   ],
   "source": [
    "p1V.max()"
   ]
  },
  {
   "cell_type": "code",
   "execution_count": 60,
   "id": "47a5492c",
   "metadata": {},
   "outputs": [
    {
     "data": {
      "text/plain": [
       "-1.6582280766035324"
      ]
     },
     "execution_count": 60,
     "metadata": {},
     "output_type": "execute_result"
    }
   ],
   "source": [
    "p1V[myVocabList.index(\"stupid\")]"
   ]
  },
  {
   "cell_type": "code",
   "execution_count": null,
   "id": "119a3dab",
   "metadata": {},
   "outputs": [],
   "source": [
    "#计算 p(ci / w) = [p(w|ci)*p(ci)]/p(w)"
   ]
  },
  {
   "cell_type": "code",
   "execution_count": 19,
   "id": "44069ebe",
   "metadata": {},
   "outputs": [],
   "source": [
    "def classifyNB(vec2Classify, p0Vec, p1Vec, pClass1):\n",
    "    #计算[p(w|c1)*p(c1)]\n",
    "    p1 = sum(vec2Classify * p1Vec) + log(pClass1)\n",
    "    #计算[p(w|c2)*p(c2)]\n",
    "    p0 = sum(vec2Classify * p0Vec) + log((1.0 - pClass1))\n",
    "    if p1 > p0:\n",
    "        return 1 \n",
    "    else:\n",
    "        return 0    "
   ]
  },
  {
   "cell_type": "code",
   "execution_count": 20,
   "id": "fbbd9936",
   "metadata": {},
   "outputs": [],
   "source": [
    "def testingNB():\n",
    "    listOPosts, listClasses = loadDataSet()\n",
    "    myVocabList = createVocabList(listOPosts)\n",
    "    trainMat = []\n",
    "    for postinDoc in listOPosts:\n",
    "        trainMat.append(setOfWords2Vec(myVocabList, postinDoc))\n",
    "    p0V, p1V, pAb = trainNB1(array(trainMat), array(listClasses))\n",
    "    testEntry = ['love', 'my', 'dalmation']\n",
    "    thisDoc = array(setOfWords2Vec(myVocabList, testEntry))\n",
    "    print(testEntry,\"classified as: \", classifyNB(thisDoc, p0V, p1V, pAb))\n",
    "    testEntry = [\"stupid\", 'garbage']\n",
    "    thisDoc = array(setOfWords2Vec(myVocabList, testEntry))\n",
    "    print(testEntry,\"classified as: \", classifyNB(thisDoc, p0V, p1V, pAb))\n",
    "    "
   ]
  },
  {
   "cell_type": "code",
   "execution_count": 21,
   "id": "d2e05621",
   "metadata": {},
   "outputs": [
    {
     "name": "stdout",
     "output_type": "stream",
     "text": [
      "['love', 'my', 'dalmation'] classified as:  0\n",
      "['stupid', 'garbage'] classified as:  1\n"
     ]
    }
   ],
   "source": [
    "testingNB()"
   ]
  },
  {
   "cell_type": "code",
   "execution_count": 18,
   "id": "2029f73d",
   "metadata": {},
   "outputs": [],
   "source": [
    "def bagOfWords2Vec(vocabList, inputSet):\n",
    "    returnVec = [0]*len(vocabList)\n",
    "    for word in inputSet:\n",
    "        if word in vocabList:\n",
    "            returnVec[vocabList.index(word)] += 1#相当于加权\n",
    "        else: print(\"the word: %s is not in my Vocabulary!\")%word\n",
    "    return returnVec"
   ]
  },
  {
   "cell_type": "code",
   "execution_count": 75,
   "id": "e71285fd",
   "metadata": {},
   "outputs": [
    {
     "data": {
      "text/plain": [
       "['This',\n",
       " 'book',\n",
       " 'is',\n",
       " 'the',\n",
       " 'best',\n",
       " 'book',\n",
       " 'on',\n",
       " 'Python',\n",
       " 'or',\n",
       " 'M.L.',\n",
       " 'I',\n",
       " 'have',\n",
       " 'ever',\n",
       " 'laid',\n",
       " 'eyes',\n",
       " 'upon.']"
      ]
     },
     "execution_count": 75,
     "metadata": {},
     "output_type": "execute_result"
    }
   ],
   "source": [
    "mySent = \"This book is the best book on Python or M.L. I have ever laid eyes upon.\"\n",
    "mySent.split()"
   ]
  },
  {
   "cell_type": "code",
   "execution_count": 87,
   "id": "29ff64d6",
   "metadata": {},
   "outputs": [
    {
     "data": {
      "text/plain": [
       "'This book is the best book on Python or M.L. I have ever laid eyes upon.'"
      ]
     },
     "execution_count": 87,
     "metadata": {},
     "output_type": "execute_result"
    }
   ],
   "source": [
    "mySent"
   ]
  },
  {
   "cell_type": "code",
   "execution_count": 22,
   "id": "048eab12",
   "metadata": {},
   "outputs": [],
   "source": [
    "def ExtractWords(emailDoc):\n",
    "    import re\n",
    "    regEx = re.compile(r'\\b\\w+\\b')\n",
    "    listOfTokens = regEx.findall(emailDoc)\n",
    "    return [tok.lower() for tok in listOfTokens if len(tok) > 2]"
   ]
  },
  {
   "cell_type": "code",
   "execution_count": 23,
   "id": "1761541e",
   "metadata": {},
   "outputs": [],
   "source": [
    "def spamTest():\n",
    "    docList = []\n",
    "    classList = []\n",
    "#     fullText = []\n",
    "    for i in range(1, 26):\n",
    "        wordList = ExtractWords(open('email/spam/%d.txt' % i).read())\n",
    "        docList.append(wordList)\n",
    "#         fullText.extend(wordList)\n",
    "        classList.append(1)\n",
    "        wordList = ExtractWords(open('email/ham/%d.txt' % i).read())\n",
    "        docList.append(wordList)\n",
    "#         fullText.extend(wordList)\n",
    "        classList.append(0)\n",
    "    vocabList = createVocabList(docList)\n",
    "    trainingSet = list(range(50))\n",
    "    testSet = []\n",
    "    for i in range(10):\n",
    "        randIndex = int(random.uniform(0, len(trainingSet)))\n",
    "        testSet.append(trainingSet[randIndex])\n",
    "        del(trainingSet[randIndex])\n",
    "    trainMat = []\n",
    "    trainClasses = []\n",
    "    for docIndex in trainingSet:\n",
    "        trainMat.append(bagOfWords2Vec(vocabList, docList[docIndex]))\n",
    "        trainClasses.append(classList[docIndex])\n",
    "    p0V, p1V, pSpam = trainNB1(array(trainMat), array(trainClasses))\n",
    "    errorCount = 0\n",
    "    for docIndex in testSet:\n",
    "        wordVector = bagOfWords2Vec(vocabList, docList[docIndex])\n",
    "        if classifyNB(array(wordVector), p0V, p1V, pSpam) != classList[docIndex]:\n",
    "            errorCount += 1 \n",
    "    print(\"the error rate is : \",float(errorCount/len(testSet)))\n"
   ]
  },
  {
   "cell_type": "code",
   "execution_count": 33,
   "id": "56dee123",
   "metadata": {},
   "outputs": [],
   "source": [
    "def spamTest():\n",
    "    docList = []\n",
    "    classList = []\n",
    "#     fullText = []\n",
    "    for i in range(1, 26):\n",
    "        wordList = ExtractWords(open('email/spam/%d.txt' % i).read())\n",
    "        docList.append(wordList)\n",
    "#         fullText.extend(wordList)\n",
    "        classList.append(1)\n",
    "        wordList = ExtractWords(open('email/ham/%d.txt' % i).read())\n",
    "        docList.append(wordList)\n",
    "#         fullText.extend(wordList)\n",
    "        classList.append(0)\n",
    "    vocabList = createVocabList(docList)\n",
    "    errorCount = 0\n",
    "    totalTest = 0\n",
    "    rate = 0\n",
    "    for j in range(1000):\n",
    "        trainingSet = list(range(50))\n",
    "        testSet = []\n",
    "        for i in range(10):\n",
    "            randIndex = int(random.uniform(0, len(trainingSet)))\n",
    "            testSet.append(trainingSet[randIndex])\n",
    "            del(trainingSet[randIndex])\n",
    "        trainMat = []\n",
    "        trainClasses = []\n",
    "        for docIndex in trainingSet:\n",
    "            trainMat.append(bagOfWords2Vec(vocabList, docList[docIndex]))\n",
    "            trainClasses.append(classList[docIndex])\n",
    "        p0V, p1V, pSpam = trainNB1(array(trainMat), array(trainClasses))\n",
    "        for docIndex in testSet:\n",
    "            totalTest += 1\n",
    "            wordVector = bagOfWords2Vec(vocabList, docList[docIndex])\n",
    "            if classifyNB(array(wordVector), p0V, p1V, pSpam) != classList[docIndex]:\n",
    "                errorCount += 1 \n",
    "        rate += float(errorCount/totalTest)\n",
    "    rate /= 1000.0\n",
    "    print( \"the error rate is : \",rate)"
   ]
  },
  {
   "cell_type": "code",
   "execution_count": 34,
   "id": "af543d40",
   "metadata": {
    "scrolled": true
   },
   "outputs": [
    {
     "name": "stdout",
     "output_type": "stream",
     "text": [
      "the error rate is :  0.06678917468611888\n"
     ]
    }
   ],
   "source": [
    "spamTest()"
   ]
  },
  {
   "cell_type": "code",
   "execution_count": 269,
   "id": "9c7930a5",
   "metadata": {},
   "outputs": [],
   "source": [
    "import feedparser\n",
    "ny = feedparser.parse('http://newyork.craigslist.org/stp/index.rss')"
   ]
  },
  {
   "cell_type": "code",
   "execution_count": 270,
   "id": "b9ffa1ec",
   "metadata": {},
   "outputs": [
    {
     "data": {
      "text/plain": [
       "[]"
      ]
     },
     "execution_count": 270,
     "metadata": {},
     "output_type": "execute_result"
    }
   ],
   "source": [
    "ny['entries']"
   ]
  },
  {
   "cell_type": "code",
   "execution_count": 271,
   "id": "e0752afd",
   "metadata": {},
   "outputs": [
    {
     "data": {
      "text/plain": [
       "{'bozo': 1,\n",
       " 'entries': [],\n",
       " 'feed': {'summary': 'Your request has been blocked.<br /><br />If you have questions, please <a href=\"https://www.craigslist.org/contact?step=form&amp;reqType=help_blocks&amp;blockID=39468\">contact us</a>'},\n",
       " 'headers': {'content-length': '248',\n",
       "  'set-cookie': 'cl_b=4|f214e06b299b1e3f3b725f6297a1999f64fd1214|1689342929eDpZk;path=/;domain=.craigslist.org;secure;expires=Fri, 01-Jan-2038 00:00:00 GMT',\n",
       "  'strict-transport-security': 'max-age=63072000'},\n",
       " 'href': 'https://newyork.craigslist.org/stp/index.rss',\n",
       " 'status': 301,\n",
       " 'encoding': 'iso-8859-1',\n",
       " 'bozo_exception': xml.sax._exceptions.SAXParseException('not well-formed (invalid token)'),\n",
       " 'version': '',\n",
       " 'namespaces': {}}"
      ]
     },
     "execution_count": 271,
     "metadata": {},
     "output_type": "execute_result"
    }
   ],
   "source": [
    "ny"
   ]
  },
  {
   "cell_type": "code",
   "execution_count": null,
   "id": "c9f77af5",
   "metadata": {},
   "outputs": [],
   "source": []
  }
 ],
 "metadata": {
  "kernelspec": {
   "display_name": "Python 3 (ipykernel)",
   "language": "python",
   "name": "python3"
  },
  "language_info": {
   "codemirror_mode": {
    "name": "ipython",
    "version": 3
   },
   "file_extension": ".py",
   "mimetype": "text/x-python",
   "name": "python",
   "nbconvert_exporter": "python",
   "pygments_lexer": "ipython3",
   "version": "3.9.7"
  }
 },
 "nbformat": 4,
 "nbformat_minor": 5
}
